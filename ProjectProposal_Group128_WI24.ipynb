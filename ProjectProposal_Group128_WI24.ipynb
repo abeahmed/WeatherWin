{
 "cells": [
  {
   "cell_type": "markdown",
   "metadata": {},
   "source": [
    "# COGS 108 - Project Proposal"
   ]
  },
  {
   "cell_type": "markdown",
   "metadata": {},
   "source": [
    "# Names\n",
    "\n",
    "- Natalie Abel\n",
    "- Anthony Manrique \n",
    "- Jack Multani\n",
    "- Sasha Rashid\n",
    "- Abdullah Ahmed"
   ]
  },
  {
   "cell_type": "markdown",
   "metadata": {},
   "source": [
    "# Research Question"
   ]
  },
  {
   "cell_type": "markdown",
   "metadata": {},
   "source": [
    "What are the multifaceted factors contributing to the home field advantage in the NFL, considering variables such as weather conditions, home attendance, geographical location, team performance, and fan engagement? How do these factors interact, and to what extent do they individually and collectively influence the outcomes of games and the overall success of teams in their home stadiums?\n",
    "\n"
   ]
  },
  {
   "cell_type": "markdown",
   "metadata": {},
   "source": [
    "## Background and Prior Work"
   ]
  },
  {
   "cell_type": "markdown",
   "metadata": {},
   "source": [
    "Across the NFL, teams are required to play 50% of games at their home stadium while the other 50% is played at away stadiums. However, when playing at their home stadium, teams are favored to have a ‘home-field advantage’ that offers them a better chance of winning than the opposing team. But what exactly makes playing on their home turf such a big deal? In our project, we aim to research what creates a home-field advantage by looking at different factors like the weather, the number of fans in attendance, the game performance of the team, and even where the team is based. By digging into these details, we hope to understand why playing at home seems to give NFL teams an edge, what specific factors, if any, may contribute more to the advantage, and how these factors collectively affect the team’s success on their home field.\n",
    "\n",
    "We looked at how weather conditions in general affect all NFL games, whether they are home or away. A study conducted by a group of students at Stanford University attempted to find whether the results of NFL games could be affected by temperature or precipitation that was occurring during the game [<a name=\"cite_ref-1\"></a>[1](#cite_note-1)]. The study made distinctions between types of weather conditions and examined the offensive and defensive efficiency of the teams playing in the game. A linear regression of weather factors was then performed on the score measures of the game including “Points Per Game (PPG), Score Differential between Home Team and Away Team, Home Score, and Away Score”. The study concluded that poor weather that occurs at home games is a greater advantage for the home team as the home players are more used to playing in the city’s environment. In addition, for weather that involved rain or high wind speeds, the average score for the away team resulted in a negative value, indicating an advantage for the home team. As this study is similar to our research project, we hope to take a further step and look at the individual scores of players to examine player performance in specific weather conditions.\n",
    "\n",
    "Another study conducted on a team’s winning percentage at home focused on whether fans or spectators positively impacted the home team’s chances of winning [<a name=\"cite_ref-2\"></a>[2](#cite_note-2)]. The study narrowed their research on the 2020 NFL season during the COVID-19 pandemic as there were no to little fans allowed on stadiums during this time. By comparing home attendance in the 2020 NFL season to previous seasons, the study also looked at betting odds of the home team to determine whether there was an increase in odds during the 2020 NFL season compared to other years. After investigating the mean and median values of closing betting lines, the study found that the 2020 NFL season occurred in lower closing betting odds due to the absence of a home attendance, thus shifting the bettings favors to be more balanced towards the away team. In addition, the study found that in non-2020 seasons, the home team was favored by 2.50 points, indicating that 16% of an incorporated home advantage within a betting odd is determined by home attendance. In comparison to the home team, away teams during the non-2020 seasons were only favored by 0.16 points but increased to 0.85 points during the 2020 NFL season, indicating that away teams are more likely to win an away game without the presence of a home crowd. As this study seems to base their results only on bettings odds from the 2007 - 2020 NFL seasons, we would like to shift away from the methodology used within this study and instead incorporate one that focuses on the change in home attendance per each game and the statistics of players while they play in both home and away games.  \n",
    "\n",
    "In addition to our own research on datasets that pertain to home-field advantage in the NFL, a previous project was found that investigated this phenomenon. In his project [<a name=\"cite_ref-3\"></a>[3](#cite_note-3)], he observed the datasets related to fan base, stadium type (indoor or outdoor), the effects of having to travel, and the time zone in which the games were played. From wrangling through his data, sorting missing values, and finding the p-values in his statistical analysis, he came to the conclusion that there was no real “home-field advantage” for teams in the NFL. He believes that this is due to the NFL designating large amounts of money to minimize this concept and make the playing field more level, where the players are ready and comfortable playing either at home or away. This analysis was helpful in giving us an idea of what to look for in our datasets, and it puts into perspective that there could be a null hypothesis from our research. However, we are determined to incorporate other variables in the equation, with datasets on weather conditions and location of the game to determine if those fit the home-field advantage paradigm. We still want to observe the fan base and determine our own observations from more recent data, since his study was conducted from the 2017 NFL season. \n",
    "\n",
    "References:\n",
    "1. <a name=\"cite_note-1\"></a> [^](#cite_ref-1) https://web.stanford.edu/class/stats50/projects16/Houghton-BerryParkPierce-paper.pdf\n",
    "2. <a name=\"cite_note-2\"></a> [^](#cite_ref-2)https://digitalscholarship.unlv.edu/grrj/vol26/iss1/6/\n",
    "3. <a name=\"cite_note-3\"></a> [^](#cite_ref-3)https://medium.com/@m.grohnke/home-field-advantage-in-the-nfl-7b3bd1503109\n"
   ]
  },
  {
   "cell_type": "markdown",
   "metadata": {},
   "source": [
    "# Hypothesis\n"
   ]
  },
  {
   "cell_type": "markdown",
   "metadata": {},
   "source": [
    "The impact of abnormal weather conditions during NFL home games has a more significant effect on win rates than the presence or absence of fan attendance. This is due to the fact that previous projects found no correlation between fan base and at-home advantage, as well as the fact that many fans travel to away-games. \n",
    "\n",
    "We also believe that weather has more of an impact on the game itself, as you can’t simulate factors like snow that give a team practicing in those conditions an advantage. \n"
   ]
  },
  {
   "cell_type": "markdown",
   "metadata": {},
   "source": [
    "# Data"
   ]
  },
  {
   "cell_type": "markdown",
   "metadata": {},
   "source": [
    "An ideal dataset for studying the multiple variables that contribute to home field advantage would include variables such as game outcomes, weather conditions, fan attendance, stadium information, and betting odds, to name a few. In addition, it should have enough observations (at least 5 years worth) to allow for a meaningful analysis. These data would be collected from observing the win rate relative to games played in harsh weather conditions (snow, excessive heat, rain, etc) for the home team, as well as win rate at home versus away for teams and the amount of fans present at these games (fan base), betting rates for the game (contributing to fan base and who people think will win), and location of the stadium. These data would be stored in graphs/barplots, as well as within rows and columns for win rate, if the game is home or away, and relative factors we are observing.  \n",
    "\n",
    "Some potential datasets are listed below:\n",
    "- https://www.kaggle.com/datasets/tombliss/weather-data\n",
    "- https://www.kaggle.com/datasets/sujaykapadnis/nfl-stadium-attendance-dataset\n",
    "- https://www.kaggle.com/competitions/nfl-big-data-bowl-2020/data\n",
    "- https://www.kaggle.com/datasets/kayla96/nfl-teams-data"
   ]
  },
  {
   "cell_type": "markdown",
   "metadata": {},
   "source": [
    "# Ethics & Privacy"
   ]
  },
  {
   "cell_type": "markdown",
   "metadata": {},
   "source": [
    "Potential ethical concerns would be missing perspectives on who is part of the fan base count, bias in how the stadium is built for that fan base (how many people it can hold), as well as there being bias with what players are on the teams and how that affects the fan base as well. \n",
    "\n",
    "There could be bias in terms of who composes our datasets as they could favor or support a particular team in the NFL, and the data could reflect that. As previously mentioned, collecting a fan base would be biased depending on who is home-team fans and who is away (there is no designated away spot for away fans, so collecting data on home-field fan base might be not following honest representation (Deon)). We also need to ensure that we focus on multiple NFL teams, not ones based on specific location (east or west coast) in order to get a fair representation for our data. Lastly, there is bias in what NFL season we are looking at for our data, where certain years hold different data depending on outside factors (covid, inflation rates, etc.) that affect game attendance. \n",
    "\n",
    "As far as sorting out these biases, we plan to focus on the latest NFL season, where we have recent data to work off of. We also plan to focus on all of the teams within the league, not biasing East or West Coast teams and only getting their statistics. If this is not feasible, we plan to at least focus on one team in every region of the US and their winning percentage relative to the variables we are looking at. \n",
    "\n",
    "Since the data is mainly on factors involving the home town, from weather to location to fan base, there isn’t a great deal of privacy concerns as we aren’t investigating human subjects. However, there could be privacy concerns with if people are betting on games and how that relates to fan base, as well as team exposure of statistics. \n",
    "\n",
    "We will handle these issues by exploring data that has informed consent, as well as focusing more on statistics relative to the fan base as a whole, not single individuals. These will follow more game attendance for home vs. away games and how that affects winning percentage. \n"
   ]
  },
  {
   "cell_type": "markdown",
   "metadata": {},
   "source": [
    "# Team Expectations "
   ]
  },
  {
   "cell_type": "markdown",
   "metadata": {},
   "source": [
    "* Meet weekly through Zoom, possibly twice on weeks where there is a checkpoint due\n",
    "* Communicate project updates/issues over text so group members are aware of the project’s progress \n",
    "* Contribute equally to overall project and various checkpoint assignments\n",
    "* Distribute work evenly and fairly among group members\n",
    "* Keep up with commitments made in terms of work to be done outside of meeting times and complete this work in a timely manner\n",
    "* If conflicts arise, communicate frustrations respectfully and refer to COGS 108 Team Policies if needed \n"
   ]
  },
  {
   "cell_type": "markdown",
   "metadata": {},
   "source": [
    "# Project Timeline Proposal"
   ]
  },
  {
   "cell_type": "markdown",
   "metadata": {},
   "source": [
    "\n",
    "\n",
    "\n",
    "| Date & Time  | Before Meeting | Meeting Agenda  | Assignment Due |\n",
    "|---|---|---|---|\n",
    "| 02/18/24, 3PM  |  Explore datasets related to project topic | Finalize project topic and research question, finalize meeting times for rest of the project, distribute roles for the project, decide best datasets to use | N/A| \n",
    "| 02/25/24, 3PM  |  Choose relevant parts of each dataset and begin cleaning data, begin checkpoint #1 assignment |  Finalize and submit checkpoint #1, discuss what we want to highlight from the data and how we will do the analysis | Checkpoint #1  | \n",
    "| 03/03/24, 3PM | Clean up data, begin EDA  | Review clean datasets, and analysis, discuss how we want to visualize the data and what we have learned from the data  | N/A |\n",
    "| 03/10/24, 3PM  | Work on analysis, create visualizations, begin drafting “story” that the report will tell, begin checkpoint #2 | Review visualizations, go over how we want the data to be presented/the story we want to tell, finalize and submit checkpoint #2 | Checkpoint #2   |\n",
    "| 03/17/24, 3PM   | Work on ethics and privacy, begin working on discussion and conclusion, review & improve completed sections of project  | Finalize discussion, conclusion and results and review full project  | N/A |\n",
    "| 03/20/24, 3PM | N/A  | Submit final project and group surveys | Final Project |"
   ]
  }
 ],
 "metadata": {
  "kernelspec": {
   "display_name": "Python 3 (ipykernel)",
   "language": "python",
   "name": "python3"
  },
  "language_info": {
   "codemirror_mode": {
    "name": "ipython",
    "version": 3
   },
   "file_extension": ".py",
   "mimetype": "text/x-python",
   "name": "python",
   "nbconvert_exporter": "python",
   "pygments_lexer": "ipython3",
   "version": "3.9.7"
  }
 },
 "nbformat": 4,
 "nbformat_minor": 2
}
