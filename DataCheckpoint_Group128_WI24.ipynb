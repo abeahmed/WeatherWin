{
 "cells": [
  {
   "cell_type": "markdown",
   "metadata": {},
   "source": [
    "**If you lost points on the last checkpoint you can get them back by responding to TA/IA feedback**  \n",
    "\n",
    "Update/change the relevant sections where you lost those points, make sure you respond on GitHub Issues to your TA/IA to call their attention to the changes you made here.\n",
    "\n",
    "Please update your Timeline... no battle plan survives contact with the enemy, so make sure we understand how your plans have changed."
   ]
  },
  {
   "cell_type": "markdown",
   "metadata": {},
   "source": [
    "# COGS 108 - Data Checkpoint"
   ]
  },
  {
   "cell_type": "markdown",
   "metadata": {},
   "source": [
    "# Names\n",
    "\n",
    "- Natalie Abel\n",
    "- Anthony Manrique\n",
    "- Jack Multani\n",
    "- Sasha Rashid\n",
    "- Abdullah Ahmed"
   ]
  },
  {
   "cell_type": "markdown",
   "metadata": {},
   "source": [
    "# Research Question"
   ]
  },
  {
   "cell_type": "markdown",
   "metadata": {},
   "source": [
    "What are the multifaceted factors contributing to the home field advantage in the NFL, considering variables such as weather conditions, home attendance, geographical location, and team performance? How do these factors interact, and to what extent do they individually and collectively influence the outcomes of games and the overall success of teams in their home stadiums?"
   ]
  },
  {
   "cell_type": "markdown",
   "metadata": {},
   "source": [
    "## Background and Prior Work"
   ]
  },
  {
   "cell_type": "markdown",
   "metadata": {},
   "source": [
    "Across the NFL, teams are required to play 50% of games at their home stadium while the other 50% is played at away stadiums. However, when playing at their home stadium, teams are favored to have a ‘home-field advantage’ that offers them a better chance of winning than the opposing team. But what exactly makes playing on their home turf such a big deal? In our project, we aim to research what creates a home-field advantage by looking at different factors like the weather, the number of fans in attendance, the game performance of the team, and even where the team is based. By digging into these details, we hope to understand why playing at home seems to give NFL teams an edge, what specific factors, if any, may contribute more to the advantage, and how these factors collectively affect the team’s success on their home field.\n",
    "\n",
    "We looked at how weather conditions in general affect all NFL games, whether they are home or away. A study conducted by a group of students at Stanford University attempted to find whether the results of NFL games could be affected by temperature or precipitation that was occurring during the game [<a name=\"cite_ref-1\"></a>[1](#cite_note-1)]. The study made distinctions between types of weather conditions and examined the offensive and defensive efficiency of the teams playing in the game. A linear regression of weather factors was then performed on the score measures of the game including “Points Per Game (PPG), Score Differential between Home Team and Away Team, Home Score, and Away Score”. The study concluded that poor weather that occurs at home games is a greater advantage for the home team as the home players are more used to playing in the city’s environment. In addition, for weather that involved rain or high wind speeds, the average score for the away team resulted in a negative value, indicating an advantage for the home team. As this study is similar to our research project, we hope to take a further step and look at the individual scores of players to examine player performance in specific weather conditions.\n",
    "\n",
    "Another study conducted on a team’s winning percentage at home focused on whether fans or spectators positively impacted the home team’s chances of winning [<a name=\"cite_ref-2\"></a>[2](#cite_note-2)]. The study narrowed their research on the 2020 NFL season during the COVID-19 pandemic as there were no to little fans allowed on stadiums during this time. By comparing home attendance in the 2020 NFL season to previous seasons, the study also looked at betting odds of the home team to determine whether there was an increase in odds during the 2020 NFL season compared to other years. After investigating the mean and median values of closing betting lines, the study found that the 2020 NFL season occurred in lower closing betting odds due to the absence of a home attendance, thus shifting the bettings favors to be more balanced towards the away team. In addition, the study found that in non-2020 seasons, the home team was favored by 2.50 points, indicating that 16% of an incorporated home advantage within a betting odd is determined by home attendance. In comparison to the home team, away teams during the non-2020 seasons were only favored by 0.16 points but increased to 0.85 points during the 2020 NFL season, indicating that away teams are more likely to win an away game without the presence of a home crowd. As this study seems to base their results only on bettings odds from the 2007 - 2020 NFL seasons, we would like to shift away from the methodology used within this study and instead incorporate one that focuses on the change in home attendance per each game and the statistics of players while they play in both home and away games.  \n",
    "\n",
    "In addition to our own research on datasets that pertain to home-field advantage in the NFL, a previous project was found that investigated this phenomenon. In his project [<a name=\"cite_ref-3\"></a>[3](#cite_note-3)], he observed the datasets related to fan base, stadium type (indoor or outdoor), the effects of having to travel, and the time zone in which the games were played. From wrangling through his data, sorting missing values, and finding the p-values in his statistical analysis, he came to the conclusion that there was no real “home-field advantage” for teams in the NFL. He believes that this is due to the NFL designating large amounts of money to minimize this concept and make the playing field more level, where the players are ready and comfortable playing either at home or away. This analysis was helpful in giving us an idea of what to look for in our datasets, and it puts into perspective that there could be a null hypothesis from our research. However, we are determined to incorporate other variables in the equation, with datasets on weather conditions and location of the game to determine if those fit the home-field advantage paradigm. We still want to observe the fan base and determine our own observations from more recent data, since his study was conducted from the 2017 NFL season. \n",
    "\n",
    "References:\n",
    "1. <a name=\"cite_note-1\"></a> [^](#cite_ref-1) https://web.stanford.edu/class/stats50/projects16/Houghton-BerryParkPierce-paper.pdf\n",
    "2. <a name=\"cite_note-2\"></a> [^](#cite_ref-2)https://digitalscholarship.unlv.edu/grrj/vol26/iss1/6/\n",
    "3. <a name=\"cite_note-3\"></a> [^](#cite_ref-3)https://medium.com/@m.grohnke/home-field-advantage-in-the-nfl-7b3bd1503109"
   ]
  },
  {
   "cell_type": "markdown",
   "metadata": {},
   "source": [
    "# Hypothesis\n"
   ]
  },
  {
   "cell_type": "markdown",
   "metadata": {},
   "source": [
    "The impact of abnormal weather conditions during NFL home games has a more significant effect on win rates than the presence or absence of fan attendance. \n",
    "\n",
    "We hypothesize that weather conditions and fan attendance collectively influence home game win rates despite certain factors having more of an impact. Previous research revealing a lack of significant correlation between fan base and home-field advantage, coupled with the unique challenges posed by unpredictable weather conditions, supports our belief."
   ]
  },
  {
   "cell_type": "markdown",
   "metadata": {},
   "source": [
    "# Data"
   ]
  },
  {
   "cell_type": "markdown",
   "metadata": {},
   "source": [
    "An ideal dataset for studying the multiple variables that contribute to home field advantage would include variables such as game outcomes, weather conditions, fan attendance, and stadium information, to name a few. In addition, it should have enough observations to allow for a meaningful analysis. These data would be collected from observing the win rate relative to games played in abnormal weather conditions (snow, excessive heat, rain, etc) for the home team, as well as win rate at home versus away for teams and the amount of fans present at these games (home attendance), and location of the stadium. We will determine who the home team is through the dataset providing statistics on stadium location, home team, and away team. The winner will be determined by the “winner” column in games.csv under our weather data, as well as the number of wins for home games in the season (margin of victory in stadium attendance data). This data will be stored in csv’s that structure the data into rows and columns, and to determine relationships between critical variables in these datasets, we will create plots between home attendance and wins, as well as temperature and precipitation relative to wins.\n",
    "\n",
    "The datasets we will be using are the following:\n",
    "1. https://www.kaggle.com/datasets/tombliss/weather-data\n",
    "(2000-2020)\n",
    "2. https://www.kaggle.com/datasets/sujaykapadnis/nfl-stadium-attendance-dataset\n",
    "(2000-2019)\n",
    "\n",
    "\n",
    "These datasets have 20 years worth of data, and a large number of observations. This broad scope fulfills the criteria of our ideal dataset, by ensuring that it meets the necessary standards for a comprehensive analysis. Additionally, the data appears to be ‘clean’, in the sense that the format is consistent, and there are no empty rows, although certain variables do have some missing data. We cleaned this data (described in the wrangling/cleaning section for each dataset), by sorting through the factors that we want to observe in relation to whether the home team has the advantage of winning their games. We simply had to drop columns, change NaN values to readable terms, change float values to integers, and merge data to make it easier to read. For the columns that we did nothing to, we determined this was the case as our data was in the correct type and it was relevant to our research question and what variables we want to study. For pre-processing, we checked to make sure that the data was distributed properly, in the correct format for each column it was designated to. As previously mentioned, some minor changes in datatype needed to be made, but overall, the data was clean. "
   ]
  },
  {
   "cell_type": "markdown",
   "metadata": {},
   "source": [
    "## Data overview\n",
    "\n",
    "- Dataset #1\n",
    "  - Weather data– includes relevant information on location of the game, the stadium type, temperature, humidity, windspeed, etc., all of which are factors that are being observed in regards to game success/win rate\n",
    "  - Link to the dataset: https://www.kaggle.com/datasets/tombliss/weather-data\n",
    "- games.csv:\n",
    "  - Number of observations: 5593\n",
    "  - Number of variables: 6\n",
    "- games_weather.csv:\n",
    "  - Number of observations: 37155\n",
    "  - Number of variables: 12\n",
    "- stadium_coordinates.csv:\n",
    "  - Number of observations: 59\n",
    "  - Number of variables: 6\n",
    "\n",
    "\n",
    "- Dataset #2 \n",
    "  - Dataset Name: NFL stadium attendance dataset– includes relevant information on home vs. away attendance of teams, \n",
    "  - Link to the dataset: https://www.kaggle.com/datasets/sujaykapadnis/nfl-stadium-attendance-dataset\n",
    "- attendance.csv:\n",
    "  - Number of observations: 10846\n",
    "  - Number of variables: 8\n",
    "- games.csv:\n",
    "  - Number of observations: 5324\n",
    "  - Number of variables: 19\n",
    "- games_weather.csv:\n",
    "  - Number of observations: 638\n",
    "  - Number of variables: 15"
   ]
  },
  {
   "cell_type": "markdown",
   "metadata": {},
   "source": [
    "### Dataset #1 \n",
    "\n",
    "Important variables:\n",
    "- “Roof Type”:  whether the stadium is indoor, outdoor or has a retractable roof in stadium_coordinates.csv\n",
    "- “game_id”: identification corresponding to the game in stadium_coordinates.csv\n",
    "-  “Season”:  season in which the game is being played in games.csv\n",
    "- “StadiumName”: name of stadium in games.csv\n",
    "- “Temperature”, “Humidity”, “DewPoint”, “Precipitation”, “WindSpeed”, “WindDirection”, and “Pressure”  in games_weather.csv\n",
    "- “HomeTeam”: who is the home team for that game in stadium_coordinates.csv\n",
    "\n",
    "\n",
    "Metrics/Datatypes: \n",
    "- “Roof Type”, “Season”, “Stadium name” = objects (strings)\n",
    "- “Game_id” = integer\n",
    "- “Temperature”, “Humidity”, “Precipitation”, “WindSpeed”, “WindDirection”, “Pressure” = float\n",
    "\n",
    "\n",
    "Proxies:\n",
    "- Roof Type can coordinate with whether the weather would affect the game or not (open roof with snow vs closed roof with snow– snow wouldn’t affect the game)\n",
    "- Wind speed can play a factor in throwing the football, which can ultimately affect the game\n",
    "- Temperature with extreme heat or extreme cold can play a role in away team adjusting to the game\n",
    "- Precipitation indicates rain or snow depending on temperature can affect game conditions for the away team\n",
    "\n",
    "\n",
    "Wrangling/cleaning the data:\n",
    "- We will need to clean the unnecessary columns in the weather file, including the “longitude”, “latitude”, and “stadiumazimuthangle” in stadium_coordinates.csv. \n",
    "- Additional columns like “timestartgame”, “timeendgame”, and “TZOffset” in games.csv are not useful for our data, and will be filtered out. In games_weather.csv, we will clean out the data for “source”, “distancetostation”, and “timemeasure” as we are only focused on the weather aspects that can affect the game( rain, heat, snow, and wind). \n",
    "\n",
    "We streamlined our data by eliminating unnecessary variables and combining the contents of the three separate csv files from Dataset #1 into a single dataset to make it easy to follow weather content and games.\n"
   ]
  },
  {
   "cell_type": "markdown",
   "metadata": {},
   "source": [
    "## Dataset #1 Weather Data"
   ]
  },
  {
   "cell_type": "code",
   "execution_count": null,
   "metadata": {},
   "outputs": [],
   "source": [
    "import numpy as np\n",
    "import pandas as pd\n",
    "\n",
    "\n",
    "weather_data = pd.read_csv('games_weather.csv')\n",
    "coordinates = pd.read_csv('stadium_coordinates.csv')\n",
    "games_2 = pd.read_csv('games_2.csv')\n",
    "\n",
    "\n",
    "games_2 = games_2.drop(columns = ['TimeStartGame', 'TimeEndGame', 'TZOffset'])\n",
    "weather_data = weather_data.drop(columns = ['Source', 'DistanceToStation', 'TimeMeasure', 'EstimatedCondition'])\n",
    "coordinates = coordinates.drop(columns = ['Longitude', 'Latitude', 'StadiumAzimuthAngle'])\n",
    "\n",
    "\n",
    "weather_data = weather_data.groupby('game_id').mean()\n",
    "weather_games = pd.merge(weather_data, games_2, on = 'game_id')\n",
    "weather_games = weather_games[weather_games['Season'] <= 2019]\n",
    "weather = pd.merge(weather_games, coordinates, on = 'StadiumName')\n",
    "weather = weather.loc[~((weather['HomeTeam'] == 'Wembley') | (weather['HomeTeam'] == 'Twickenham') | (weather['HomeTeam'] == 'Tottenham') | (weather['HomeTeam'] == 'Toronto') | (weather['HomeTeam'] == 'Mexico City'))]\n",
    "\n",
    "weather"
   ]
  },
  {
   "cell_type": "markdown",
   "metadata": {},
   "source": [
    "### Dataset #2 \n",
    "\n",
    "Important variables:\n",
    "- “Weekly_attendance”( number of people at the game per week of games), “team name”, “team”, “year”, “week” , “home” (number of fans for home) “away”(number of fans for away), “total” in attendance.csv\n",
    "- “home_team_name”, “away_team_name”, “turnover_loss”, “yds_loss”, “yds_win”, “pts_win”, “pts_loss”, “turnovers_win”, “turnover_loss”, “tie”, “date”, “winner” in games.csv\n",
    "- “team”, “team_name”, “year”, “wins”, “loss”, “points_for”, “points_against”, “points_differential”, “margin_of_victory” in staattendance.csv\n",
    "\n",
    "\n",
    "Metrics/Datatypes:\n",
    "- “Team_name”, “team”, “tie” (originally NaN– changed to “No” if NaN), “home_team_name”, “away_team_city”, “date”= objects (strings)\n",
    "- “Year”, “week”, “wins”, “loss”, “points_for”, “points_against”, “points_differential”, “pts_win”, “pts_loss”, “yds_win”, “turnovers_win”, “yds_loss”, “turnovers_loss” = integers\n",
    "- “Weekly_attendance”: originally float, changed to integer\n",
    "- “Margin_of_victory”: float\n",
    "\n",
    "\n",
    "Proxies:\n",
    "- Weekly attendance can contribute to how well a team is doing, as well as specific game attendance for those teams – have to access the same teams, year, and week of games from both datasets \n",
    "- Home vs away fan rate compared to total in relation to wins could be a determining factor \n",
    "- Other factors from the game (yds_win, turnovers_win, etc.) could indicate team performance more than wins (maybe an unlucky game if there is no win but high yds_win, turnovers_win, etc.)\n",
    "- Margin of victory points towards team success\n",
    "\n",
    "\n",
    "\n",
    "\n",
    "Wrangling/Cleaning:\n",
    "- We changed the NaN values in the “tie” column to be “No” if NaN to be easier to read\n",
    "- We removed variables in the original CSVs (stregnth_of_schedule, simple_rating, offensive_ranking, defensive_ranking, playoffs, sb_winner, home_team_city, away_team_city) as this data wasn’t relative to the analysis on attendance for home teams and rate of winning.\n",
    "\n",
    "\n",
    "We then merged the “standings.csv” and “attendance.csv” to make a “standings_attendance” csv file for Dataset #2 in order to combine the aspects of attendance for each game and the game statistics of winning, yards won/loss, margin of victory, etc.\n"
   ]
  },
  {
   "cell_type": "markdown",
   "metadata": {},
   "source": [
    "## Dataset #2 NFL Stadium Attendance"
   ]
  },
  {
   "cell_type": "code",
   "execution_count": null,
   "metadata": {},
   "outputs": [],
   "source": [
    "games = pd.read_csv('games.csv')\n",
    "attendance = pd.read_csv('attendance.csv')\n",
    "standings = pd.read_csv('standings.csv')\n",
    "\n",
    "\n",
    "standings = standings.drop(columns = ['strength_of_schedule', 'simple_rating', 'offensive_ranking', 'defensive_ranking', 'playoffs', 'sb_winner'])\n",
    "games = games.drop(columns = ['time', 'day', 'home_team', 'away_team'])\n",
    "\n",
    "\n",
    "games = games.loc[~((games['week'] == 'WildCard') | (games['week'] == 'Division') | (games['week'] == 'ConfChamp') | (games['week'] == 'SuperBowl'))]\n",
    "games['tie'] = games['tie'].fillna('No')\n",
    "\n",
    "\n",
    "weekly_attendance = attendance.drop(columns = ['total', 'home', 'away'])\n",
    "weekly_attendance = weekly_attendance[weekly_attendance['weekly_attendance'].notna()]\n",
    "weekly_attendance['weekly_attendance'] = weekly_attendance['weekly_attendance'].astype(int)\n",
    "total_attendance = attendance.drop(columns = ['weekly_attendance', 'week']).drop_duplicates().reset_index().drop(columns = ['index'])\n",
    "\n",
    "\n",
    "total_attendance = total_attendance.drop(columns = ['team_name', 'year'])\n",
    "standings_attendance = pd.merge(standings, total_attendance, on = 'team')\n",
    "\n",
    "games\n",
    "weekly_attendance\n",
    "standings_attendance"
   ]
  },
  {
   "cell_type": "markdown",
   "metadata": {},
   "source": [
    "# Ethics & Privacy"
   ]
  },
  {
   "cell_type": "markdown",
   "metadata": {},
   "source": [
    "Potential ethical concerns would be missing perspectives on bias in how the stadium is built for that fan base (how many people it can hold), as well as there being bias with what players are on the teams and how that affects the stadium attendance as well. There would be no risk of bias in determining fan base as the dataset for stadium attendance provides data on home attendance and away attendance within the stadium. \n",
    "There could be bias in terms of who composes our datasets as they could favor or support a particular team in the NFL, and the data could reflect that. We also need to ensure that we focus on multiple NFL teams, not ones based on specific location (east or west coast) in order to get a fair representation for our data. Lastly, there is bias in what NFL season we are looking at for our data, where certain years hold different data depending on outside factors (covid, inflation rates, etc.) that affect game attendance. \n",
    "As far as sorting out these biases, we plan to focus on the last 20 seasons of NFL, where we can see the trend in attendance and weather factors across multiple seasons and determine if there is a clear relationship to success. While some seasons will be due to outside factors like covid, we may determine this data unfeasible and plan to filter it out of the dataset. We also plan to focus on all of the teams within the league, not biasing East or West Coast teams and only getting their statistics. If this is not feasible, we plan to at least focus on one team in every region of the US and their winning percentage relative to the variables we are looking at. As far as the size of the stadium, we will focus more on the rate between home vs. away fans, instead of the total number. This would help address the bias of a bigger stadium being able to hold more fans, and we are more interested in if the home attendance is proportionally greater than the away attendance for games. \n",
    "Since the data is mainly on factors involving the home town, from weather to location to fan base, there isn’t a great deal of privacy concerns as we aren’t investigating human subjects. However, there could be privacy concerns with if people are betting on games and how that relates to fan base, as well as team exposure of statistics. \n",
    "We will handle these issues by exploring data that has informed consent, as well as focusing more on statistics relative to multiple seasons, rather than any one season. These will follow a clearer pattern for game attendance for home vs. away games as well as weather factors and how that affects winning percentage. \n"
   ]
  },
  {
   "cell_type": "markdown",
   "metadata": {},
   "source": [
    "# Team Expectations "
   ]
  },
  {
   "cell_type": "markdown",
   "metadata": {},
   "source": [
    "* Meet weekly through Zoom, possibly twice on weeks where there is a checkpoint due\n",
    "* Communicate project updates/issues over text so group members are aware of the project’s progress \n",
    "* Contribute equally to overall project and various checkpoint assignments\n",
    "* Distribute work evenly and fairly among group members\n",
    "* Keep up with commitments made in terms of work to be done outside of meeting times and complete this work in a timely manner\n",
    "* If conflicts arise, communicate frustrations respectfully and refer to COGS 108 Team Policies if needed "
   ]
  },
  {
   "cell_type": "markdown",
   "metadata": {},
   "source": [
    "# Project Timeline Proposal"
   ]
  },
  {
   "cell_type": "markdown",
   "metadata": {},
   "source": [
    "\n",
    "\n",
    "\n",
    "| Date & Time  | Before Meeting | Meeting Agenda  | Assignment Due |\n",
    "|---|---|---|---|\n",
    "| 02/18/24, 3PM  |  Explore datasets related to project topic | Finalize project topic and research question, finalize meeting times for rest of the project, distribute roles for the project, decide best datasets to use | N/A| \n",
    "| 02/25/24, 3PM  |  Choose relevant parts of each dataset and begin cleaning data, begin checkpoint #1 assignment |  Finalize and submit checkpoint #1, discuss what we want to highlight from the data and how we will do the analysis | Checkpoint #1  | \n",
    "| 03/03/24, 3PM | Clean up data, begin EDA  | Review clean datasets, and analysis, discuss how we want to visualize the data and what we have learned from the data  | N/A |\n",
    "| 03/10/24, 3PM  | Work on analysis, create visualizations, begin drafting “story” that the report will tell, begin checkpoint #2 | Review visualizations, go over how we want the data to be presented/the story we want to tell, finalize and submit checkpoint #2 | Checkpoint #2   |\n",
    "| 03/17/24, 3PM   | Work on ethics and privacy, begin working on discussion and conclusion, review & improve completed sections of project  | Finalize discussion, conclusion and results and review full project  | N/A |\n",
    "| 03/20/24, 3PM | N/A  | Submit final project and group surveys | Final Project |"
   ]
  }
 ],
 "metadata": {
  "kernelspec": {
   "display_name": "Python 3 (ipykernel)",
   "language": "python",
   "name": "python3"
  },
  "language_info": {
   "codemirror_mode": {
    "name": "ipython",
    "version": 3
   },
   "file_extension": ".py",
   "mimetype": "text/x-python",
   "name": "python",
   "nbconvert_exporter": "python",
   "pygments_lexer": "ipython3",
   "version": "3.9.7"
  }
 },
 "nbformat": 4,
 "nbformat_minor": 2
}
